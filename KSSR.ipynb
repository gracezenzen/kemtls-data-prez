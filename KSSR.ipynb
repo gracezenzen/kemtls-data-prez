{
 "cells": [
  {
   "cell_type": "code",
   "execution_count": 1,
   "metadata": {},
   "outputs": [],
   "source": [
    "import pandas as pd\n",
    "import numpy as np\n",
    "import matplotlib.pyplot as plt\n",
    "import seaborn as sns\n",
    "import re"
   ]
  },
  {
   "cell_type": "code",
   "execution_count": 8,
   "metadata": {},
   "outputs": [],
   "source": [
    "kssr = pd.read_csv('./processed/avgs.csv')"
   ]
  },
  {
   "cell_type": "code",
   "execution_count": 9,
   "metadata": {},
   "outputs": [
    {
     "data": {
      "text/plain": [
       "Index(['type', 'kex', 'leaf', 'int', 'root', 'cached_int', 'rtt', 'drop_rate',\n",
       "       'rate', 'measurements', 'name', 'client emitted ch',\n",
       "       'client emitted ch stdev', 'client derived ephemeral keys',\n",
       "       'client derived ephemeral keys stdev', 'client received sh',\n",
       "       'client received sh stdev', 'client encapsulating to server',\n",
       "       'client encapsulating to server stdev',\n",
       "       'client submitted ckex to server',\n",
       "       'client submitted ckex to server stdev', 'client switched to ahs keys',\n",
       "       'client switched to ahs keys stdev', 'client client encrypting traffic',\n",
       "       'client client encrypting traffic stdev', 'client authenticated server',\n",
       "       'client authenticated server stdev', 'client handshake completed',\n",
       "       'client handshake completed stdev', 'client received server reply',\n",
       "       'client received server reply stdev', 'server encapsulated ephemeral',\n",
       "       'server encapsulated ephemeral stdev', 'server emitted sh',\n",
       "       'server emitted sh stdev', 'server derived ephemeral keys',\n",
       "       'server derived ephemeral keys stdev', 'server sent certificate',\n",
       "       'server sent certificate stdev', 'server received ckex',\n",
       "       'server received ckex stdev', 'server decapsulated ckex',\n",
       "       'server decapsulated ckex stdev', 'server switched to ahs keys',\n",
       "       'server switched to ahs keys stdev', 'server emitted sf',\n",
       "       'server emitted sf stdev', 'server server encrypting traffic',\n",
       "       'server server encrypting traffic stdev',\n",
       "       'server server reading traffic', 'server server reading traffic stdev',\n",
       "       'server handshake completed', 'server handshake completed stdev'],\n",
       "      dtype='object')"
      ]
     },
     "execution_count": 9,
     "metadata": {},
     "output_type": "execute_result"
    }
   ],
   "source": [
    "kssr.columns"
   ]
  },
  {
   "cell_type": "code",
   "execution_count": 13,
   "metadata": {},
   "outputs": [
    {
     "data": {
      "text/html": [
       "<div>\n",
       "<style scoped>\n",
       "    .dataframe tbody tr th:only-of-type {\n",
       "        vertical-align: middle;\n",
       "    }\n",
       "\n",
       "    .dataframe tbody tr th {\n",
       "        vertical-align: top;\n",
       "    }\n",
       "\n",
       "    .dataframe thead th {\n",
       "        text-align: right;\n",
       "    }\n",
       "</style>\n",
       "<table border=\"1\" class=\"dataframe\">\n",
       "  <thead>\n",
       "    <tr style=\"text-align: right;\">\n",
       "      <th></th>\n",
       "      <th>type</th>\n",
       "      <th>kex</th>\n",
       "      <th>leaf</th>\n",
       "      <th>int</th>\n",
       "      <th>root</th>\n",
       "      <th>cached_int</th>\n",
       "      <th>rtt</th>\n",
       "      <th>drop_rate</th>\n",
       "      <th>rate</th>\n",
       "      <th>measurements</th>\n",
       "      <th>...</th>\n",
       "      <th>server switched to ahs keys</th>\n",
       "      <th>server switched to ahs keys stdev</th>\n",
       "      <th>server emitted sf</th>\n",
       "      <th>server emitted sf stdev</th>\n",
       "      <th>server server encrypting traffic</th>\n",
       "      <th>server server encrypting traffic stdev</th>\n",
       "      <th>server server reading traffic</th>\n",
       "      <th>server server reading traffic stdev</th>\n",
       "      <th>server handshake completed</th>\n",
       "      <th>server handshake completed stdev</th>\n",
       "    </tr>\n",
       "  </thead>\n",
       "  <tbody>\n",
       "    <tr>\n",
       "      <th>0</th>\n",
       "      <td>sign</td>\n",
       "      <td>kyber512</td>\n",
       "      <td>SphincsSha256128fSimple</td>\n",
       "      <td>Falcon512</td>\n",
       "      <td>NaN</td>\n",
       "      <td>True</td>\n",
       "      <td>206.821</td>\n",
       "      <td>0</td>\n",
       "      <td>10mbit</td>\n",
       "      <td>20000</td>\n",
       "      <td>...</td>\n",
       "      <td>NaN</td>\n",
       "      <td>NaN</td>\n",
       "      <td>16443.818934</td>\n",
       "      <td>2738.991497</td>\n",
       "      <td>117.582455</td>\n",
       "      <td>142.334269</td>\n",
       "      <td>NaN</td>\n",
       "      <td>NaN</td>\n",
       "      <td>452062.016170</td>\n",
       "      <td>31611.847457</td>\n",
       "    </tr>\n",
       "    <tr>\n",
       "      <th>1</th>\n",
       "      <td>sign</td>\n",
       "      <td>kyber512</td>\n",
       "      <td>SphincsSha256128fSimple</td>\n",
       "      <td>Falcon512</td>\n",
       "      <td>NaN</td>\n",
       "      <td>True</td>\n",
       "      <td>36.688</td>\n",
       "      <td>0</td>\n",
       "      <td>10mbit</td>\n",
       "      <td>20000</td>\n",
       "      <td>...</td>\n",
       "      <td>NaN</td>\n",
       "      <td>NaN</td>\n",
       "      <td>19009.550652</td>\n",
       "      <td>5988.469971</td>\n",
       "      <td>103.229422</td>\n",
       "      <td>138.281273</td>\n",
       "      <td>NaN</td>\n",
       "      <td>NaN</td>\n",
       "      <td>259648.148438</td>\n",
       "      <td>52924.398009</td>\n",
       "    </tr>\n",
       "    <tr>\n",
       "      <th>2</th>\n",
       "      <td>sign</td>\n",
       "      <td>kyber512</td>\n",
       "      <td>SphincsSha256128fSimple</td>\n",
       "      <td>Falcon512</td>\n",
       "      <td>NaN</td>\n",
       "      <td>True</td>\n",
       "      <td>36.688</td>\n",
       "      <td>0</td>\n",
       "      <td>1000mbit</td>\n",
       "      <td>20000</td>\n",
       "      <td>...</td>\n",
       "      <td>NaN</td>\n",
       "      <td>NaN</td>\n",
       "      <td>17433.475438</td>\n",
       "      <td>3890.956235</td>\n",
       "      <td>108.018273</td>\n",
       "      <td>73.185302</td>\n",
       "      <td>NaN</td>\n",
       "      <td>NaN</td>\n",
       "      <td>84741.956214</td>\n",
       "      <td>5789.198859</td>\n",
       "    </tr>\n",
       "    <tr>\n",
       "      <th>3</th>\n",
       "      <td>sign</td>\n",
       "      <td>kyber512</td>\n",
       "      <td>SphincsSha256128fSimple</td>\n",
       "      <td>Falcon512</td>\n",
       "      <td>NaN</td>\n",
       "      <td>True</td>\n",
       "      <td>206.821</td>\n",
       "      <td>0</td>\n",
       "      <td>1000mbit</td>\n",
       "      <td>20000</td>\n",
       "      <td>...</td>\n",
       "      <td>NaN</td>\n",
       "      <td>NaN</td>\n",
       "      <td>17546.629469</td>\n",
       "      <td>4161.705208</td>\n",
       "      <td>135.578805</td>\n",
       "      <td>311.704294</td>\n",
       "      <td>NaN</td>\n",
       "      <td>NaN</td>\n",
       "      <td>423771.567256</td>\n",
       "      <td>22179.201748</td>\n",
       "    </tr>\n",
       "    <tr>\n",
       "      <th>4</th>\n",
       "      <td>kem</td>\n",
       "      <td>kyber512</td>\n",
       "      <td>kyber512</td>\n",
       "      <td>Falcon512</td>\n",
       "      <td>RainbowIaCyclic</td>\n",
       "      <td>False</td>\n",
       "      <td>36.688</td>\n",
       "      <td>0</td>\n",
       "      <td>10mbit</td>\n",
       "      <td>20000</td>\n",
       "      <td>...</td>\n",
       "      <td>58223.249811</td>\n",
       "      <td>17069.754922</td>\n",
       "      <td>NaN</td>\n",
       "      <td>NaN</td>\n",
       "      <td>NaN</td>\n",
       "      <td>NaN</td>\n",
       "      <td>58233.497536</td>\n",
       "      <td>17069.892214</td>\n",
       "      <td>58247.879549</td>\n",
       "      <td>17069.933373</td>\n",
       "    </tr>\n",
       "  </tbody>\n",
       "</table>\n",
       "<p>5 rows × 53 columns</p>\n",
       "</div>"
      ],
      "text/plain": [
       "   type       kex                     leaf        int             root  \\\n",
       "0  sign  kyber512  SphincsSha256128fSimple  Falcon512              NaN   \n",
       "1  sign  kyber512  SphincsSha256128fSimple  Falcon512              NaN   \n",
       "2  sign  kyber512  SphincsSha256128fSimple  Falcon512              NaN   \n",
       "3  sign  kyber512  SphincsSha256128fSimple  Falcon512              NaN   \n",
       "4   kem  kyber512                 kyber512  Falcon512  RainbowIaCyclic   \n",
       "\n",
       "   cached_int      rtt  drop_rate      rate  measurements  ...  \\\n",
       "0        True  206.821          0    10mbit         20000  ...   \n",
       "1        True   36.688          0    10mbit         20000  ...   \n",
       "2        True   36.688          0  1000mbit         20000  ...   \n",
       "3        True  206.821          0  1000mbit         20000  ...   \n",
       "4       False   36.688          0    10mbit         20000  ...   \n",
       "\n",
       "  server switched to ahs keys  server switched to ahs keys stdev  \\\n",
       "0                         NaN                                NaN   \n",
       "1                         NaN                                NaN   \n",
       "2                         NaN                                NaN   \n",
       "3                         NaN                                NaN   \n",
       "4                58223.249811                       17069.754922   \n",
       "\n",
       "   server emitted sf  server emitted sf stdev  \\\n",
       "0       16443.818934              2738.991497   \n",
       "1       19009.550652              5988.469971   \n",
       "2       17433.475438              3890.956235   \n",
       "3       17546.629469              4161.705208   \n",
       "4                NaN                      NaN   \n",
       "\n",
       "   server server encrypting traffic  server server encrypting traffic stdev  \\\n",
       "0                        117.582455                              142.334269   \n",
       "1                        103.229422                              138.281273   \n",
       "2                        108.018273                               73.185302   \n",
       "3                        135.578805                              311.704294   \n",
       "4                               NaN                                     NaN   \n",
       "\n",
       "   server server reading traffic  server server reading traffic stdev  \\\n",
       "0                            NaN                                  NaN   \n",
       "1                            NaN                                  NaN   \n",
       "2                            NaN                                  NaN   \n",
       "3                            NaN                                  NaN   \n",
       "4                   58233.497536                         17069.892214   \n",
       "\n",
       "   server handshake completed  server handshake completed stdev  \n",
       "0               452062.016170                      31611.847457  \n",
       "1               259648.148438                      52924.398009  \n",
       "2                84741.956214                       5789.198859  \n",
       "3               423771.567256                      22179.201748  \n",
       "4                58247.879549                      17069.933373  \n",
       "\n",
       "[5 rows x 53 columns]"
      ]
     },
     "execution_count": 13,
     "metadata": {},
     "output_type": "execute_result"
    }
   ],
   "source": [
    "kssr.head()"
   ]
  },
  {
   "cell_type": "code",
   "execution_count": 11,
   "metadata": {},
   "outputs": [
    {
     "data": {
      "text/html": [
       "<div>\n",
       "<style scoped>\n",
       "    .dataframe tbody tr th:only-of-type {\n",
       "        vertical-align: middle;\n",
       "    }\n",
       "\n",
       "    .dataframe tbody tr th {\n",
       "        vertical-align: top;\n",
       "    }\n",
       "\n",
       "    .dataframe thead th {\n",
       "        text-align: right;\n",
       "    }\n",
       "</style>\n",
       "<table border=\"1\" class=\"dataframe\">\n",
       "  <thead>\n",
       "    <tr style=\"text-align: right;\">\n",
       "      <th></th>\n",
       "      <th>type</th>\n",
       "      <th>kex</th>\n",
       "      <th>leaf</th>\n",
       "      <th>int</th>\n",
       "      <th>root</th>\n",
       "      <th>cached_int</th>\n",
       "      <th>rtt</th>\n",
       "      <th>drop_rate</th>\n",
       "      <th>rate</th>\n",
       "      <th>measurements</th>\n",
       "      <th>...</th>\n",
       "      <th>server switched to ahs keys</th>\n",
       "      <th>server switched to ahs keys stdev</th>\n",
       "      <th>server emitted sf</th>\n",
       "      <th>server emitted sf stdev</th>\n",
       "      <th>server server encrypting traffic</th>\n",
       "      <th>server server encrypting traffic stdev</th>\n",
       "      <th>server server reading traffic</th>\n",
       "      <th>server server reading traffic stdev</th>\n",
       "      <th>server handshake completed</th>\n",
       "      <th>server handshake completed stdev</th>\n",
       "    </tr>\n",
       "  </thead>\n",
       "  <tbody>\n",
       "    <tr>\n",
       "      <th>11</th>\n",
       "      <td>kem</td>\n",
       "      <td>kyber512</td>\n",
       "      <td>kyber512</td>\n",
       "      <td>Falcon512</td>\n",
       "      <td>NaN</td>\n",
       "      <td>True</td>\n",
       "      <td>36.688</td>\n",
       "      <td>0</td>\n",
       "      <td>10mbit</td>\n",
       "      <td>20000</td>\n",
       "      <td>...</td>\n",
       "      <td>37910.431419</td>\n",
       "      <td>5693.62102</td>\n",
       "      <td>NaN</td>\n",
       "      <td>NaN</td>\n",
       "      <td>NaN</td>\n",
       "      <td>NaN</td>\n",
       "      <td>37921.200224</td>\n",
       "      <td>5694.102816</td>\n",
       "      <td>37936.220638</td>\n",
       "      <td>5694.664732</td>\n",
       "    </tr>\n",
       "    <tr>\n",
       "      <th>12</th>\n",
       "      <td>sign</td>\n",
       "      <td>kyber512</td>\n",
       "      <td>SphincsSha256128fSimple</td>\n",
       "      <td>Falcon512</td>\n",
       "      <td>RainbowIaCyclic</td>\n",
       "      <td>False</td>\n",
       "      <td>206.821</td>\n",
       "      <td>0</td>\n",
       "      <td>1000mbit</td>\n",
       "      <td>20000</td>\n",
       "      <td>...</td>\n",
       "      <td>NaN</td>\n",
       "      <td>NaN</td>\n",
       "      <td>17812.045771</td>\n",
       "      <td>4494.233389</td>\n",
       "      <td>128.573104</td>\n",
       "      <td>210.760834</td>\n",
       "      <td>NaN</td>\n",
       "      <td>NaN</td>\n",
       "      <td>424593.990835</td>\n",
       "      <td>21901.951192</td>\n",
       "    </tr>\n",
       "    <tr>\n",
       "      <th>13</th>\n",
       "      <td>sign</td>\n",
       "      <td>kyber512</td>\n",
       "      <td>SphincsSha256128fSimple</td>\n",
       "      <td>Falcon512</td>\n",
       "      <td>RainbowIaCyclic</td>\n",
       "      <td>False</td>\n",
       "      <td>36.688</td>\n",
       "      <td>0</td>\n",
       "      <td>10mbit</td>\n",
       "      <td>20000</td>\n",
       "      <td>...</td>\n",
       "      <td>NaN</td>\n",
       "      <td>NaN</td>\n",
       "      <td>19672.052964</td>\n",
       "      <td>6558.432581</td>\n",
       "      <td>106.153708</td>\n",
       "      <td>226.972548</td>\n",
       "      <td>NaN</td>\n",
       "      <td>NaN</td>\n",
       "      <td>271678.465438</td>\n",
       "      <td>56901.537235</td>\n",
       "    </tr>\n",
       "    <tr>\n",
       "      <th>14</th>\n",
       "      <td>sign</td>\n",
       "      <td>kyber512</td>\n",
       "      <td>SphincsSha256128fSimple</td>\n",
       "      <td>Falcon512</td>\n",
       "      <td>RainbowIaCyclic</td>\n",
       "      <td>False</td>\n",
       "      <td>206.821</td>\n",
       "      <td>0</td>\n",
       "      <td>10mbit</td>\n",
       "      <td>20000</td>\n",
       "      <td>...</td>\n",
       "      <td>NaN</td>\n",
       "      <td>NaN</td>\n",
       "      <td>16275.588946</td>\n",
       "      <td>2540.123393</td>\n",
       "      <td>119.034988</td>\n",
       "      <td>121.566521</td>\n",
       "      <td>NaN</td>\n",
       "      <td>NaN</td>\n",
       "      <td>449065.562683</td>\n",
       "      <td>28856.339312</td>\n",
       "    </tr>\n",
       "    <tr>\n",
       "      <th>15</th>\n",
       "      <td>sign</td>\n",
       "      <td>kyber512</td>\n",
       "      <td>SphincsSha256128fSimple</td>\n",
       "      <td>Falcon512</td>\n",
       "      <td>RainbowIaCyclic</td>\n",
       "      <td>False</td>\n",
       "      <td>36.688</td>\n",
       "      <td>0</td>\n",
       "      <td>1000mbit</td>\n",
       "      <td>20000</td>\n",
       "      <td>...</td>\n",
       "      <td>NaN</td>\n",
       "      <td>NaN</td>\n",
       "      <td>16881.382933</td>\n",
       "      <td>3711.429269</td>\n",
       "      <td>99.265532</td>\n",
       "      <td>65.467108</td>\n",
       "      <td>NaN</td>\n",
       "      <td>NaN</td>\n",
       "      <td>84251.793885</td>\n",
       "      <td>4850.715727</td>\n",
       "    </tr>\n",
       "  </tbody>\n",
       "</table>\n",
       "<p>5 rows × 53 columns</p>\n",
       "</div>"
      ],
      "text/plain": [
       "    type       kex                     leaf        int             root  \\\n",
       "11   kem  kyber512                 kyber512  Falcon512              NaN   \n",
       "12  sign  kyber512  SphincsSha256128fSimple  Falcon512  RainbowIaCyclic   \n",
       "13  sign  kyber512  SphincsSha256128fSimple  Falcon512  RainbowIaCyclic   \n",
       "14  sign  kyber512  SphincsSha256128fSimple  Falcon512  RainbowIaCyclic   \n",
       "15  sign  kyber512  SphincsSha256128fSimple  Falcon512  RainbowIaCyclic   \n",
       "\n",
       "    cached_int      rtt  drop_rate      rate  measurements  ...  \\\n",
       "11        True   36.688          0    10mbit         20000  ...   \n",
       "12       False  206.821          0  1000mbit         20000  ...   \n",
       "13       False   36.688          0    10mbit         20000  ...   \n",
       "14       False  206.821          0    10mbit         20000  ...   \n",
       "15       False   36.688          0  1000mbit         20000  ...   \n",
       "\n",
       "   server switched to ahs keys  server switched to ahs keys stdev  \\\n",
       "11                37910.431419                         5693.62102   \n",
       "12                         NaN                                NaN   \n",
       "13                         NaN                                NaN   \n",
       "14                         NaN                                NaN   \n",
       "15                         NaN                                NaN   \n",
       "\n",
       "    server emitted sf  server emitted sf stdev  \\\n",
       "11                NaN                      NaN   \n",
       "12       17812.045771              4494.233389   \n",
       "13       19672.052964              6558.432581   \n",
       "14       16275.588946              2540.123393   \n",
       "15       16881.382933              3711.429269   \n",
       "\n",
       "    server server encrypting traffic  server server encrypting traffic stdev  \\\n",
       "11                               NaN                                     NaN   \n",
       "12                        128.573104                              210.760834   \n",
       "13                        106.153708                              226.972548   \n",
       "14                        119.034988                              121.566521   \n",
       "15                         99.265532                               65.467108   \n",
       "\n",
       "    server server reading traffic  server server reading traffic stdev  \\\n",
       "11                   37921.200224                          5694.102816   \n",
       "12                            NaN                                  NaN   \n",
       "13                            NaN                                  NaN   \n",
       "14                            NaN                                  NaN   \n",
       "15                            NaN                                  NaN   \n",
       "\n",
       "    server handshake completed  server handshake completed stdev  \n",
       "11                37936.220638                       5694.664732  \n",
       "12               424593.990835                      21901.951192  \n",
       "13               271678.465438                      56901.537235  \n",
       "14               449065.562683                      28856.339312  \n",
       "15                84251.793885                       4850.715727  \n",
       "\n",
       "[5 rows x 53 columns]"
      ]
     },
     "execution_count": 11,
     "metadata": {},
     "output_type": "execute_result"
    }
   ],
   "source": [
    "kssr.tail()"
   ]
  },
  {
   "cell_type": "code",
   "execution_count": 14,
   "metadata": {},
   "outputs": [
    {
     "name": "stdout",
     "output_type": "stream",
     "text": [
      "<class 'pandas.core.frame.DataFrame'>\n",
      "RangeIndex: 16 entries, 0 to 15\n",
      "Data columns (total 53 columns):\n",
      " #   Column                                  Non-Null Count  Dtype  \n",
      "---  ------                                  --------------  -----  \n",
      " 0   type                                    16 non-null     object \n",
      " 1   kex                                     16 non-null     object \n",
      " 2   leaf                                    16 non-null     object \n",
      " 3   int                                     16 non-null     object \n",
      " 4   root                                    8 non-null      object \n",
      " 5   cached_int                              16 non-null     bool   \n",
      " 6   rtt                                     16 non-null     float64\n",
      " 7   drop_rate                               16 non-null     int64  \n",
      " 8   rate                                    16 non-null     object \n",
      " 9   measurements                            16 non-null     int64  \n",
      " 10  name                                    16 non-null     object \n",
      " 11  client emitted ch                       16 non-null     float64\n",
      " 12  client emitted ch stdev                 16 non-null     float64\n",
      " 13  client derived ephemeral keys           16 non-null     float64\n",
      " 14  client derived ephemeral keys stdev     16 non-null     float64\n",
      " 15  client received sh                      16 non-null     float64\n",
      " 16  client received sh stdev                16 non-null     float64\n",
      " 17  client encapsulating to server          8 non-null      float64\n",
      " 18  client encapsulating to server stdev    8 non-null      float64\n",
      " 19  client submitted ckex to server         8 non-null      float64\n",
      " 20  client submitted ckex to server stdev   8 non-null      float64\n",
      " 21  client switched to ahs keys             8 non-null      float64\n",
      " 22  client switched to ahs keys stdev       8 non-null      float64\n",
      " 23  client client encrypting traffic        8 non-null      float64\n",
      " 24  client client encrypting traffic stdev  8 non-null      float64\n",
      " 25  client authenticated server             16 non-null     float64\n",
      " 26  client authenticated server stdev       16 non-null     float64\n",
      " 27  client handshake completed              16 non-null     float64\n",
      " 28  client handshake completed stdev        16 non-null     float64\n",
      " 29  client received server reply            16 non-null     float64\n",
      " 30  client received server reply stdev      16 non-null     float64\n",
      " 31  server encapsulated ephemeral           16 non-null     float64\n",
      " 32  server encapsulated ephemeral stdev     16 non-null     float64\n",
      " 33  server emitted sh                       16 non-null     float64\n",
      " 34  server emitted sh stdev                 16 non-null     float64\n",
      " 35  server derived ephemeral keys           16 non-null     float64\n",
      " 36  server derived ephemeral keys stdev     16 non-null     float64\n",
      " 37  server sent certificate                 8 non-null      float64\n",
      " 38  server sent certificate stdev           8 non-null      float64\n",
      " 39  server received ckex                    8 non-null      float64\n",
      " 40  server received ckex stdev              8 non-null      float64\n",
      " 41  server decapsulated ckex                8 non-null      float64\n",
      " 42  server decapsulated ckex stdev          8 non-null      float64\n",
      " 43  server switched to ahs keys             8 non-null      float64\n",
      " 44  server switched to ahs keys stdev       8 non-null      float64\n",
      " 45  server emitted sf                       8 non-null      float64\n",
      " 46  server emitted sf stdev                 8 non-null      float64\n",
      " 47  server server encrypting traffic        8 non-null      float64\n",
      " 48  server server encrypting traffic stdev  8 non-null      float64\n",
      " 49  server server reading traffic           8 non-null      float64\n",
      " 50  server server reading traffic stdev     8 non-null      float64\n",
      " 51  server handshake completed              16 non-null     float64\n",
      " 52  server handshake completed stdev        16 non-null     float64\n",
      "dtypes: bool(1), float64(43), int64(2), object(7)\n",
      "memory usage: 6.6+ KB\n"
     ]
    }
   ],
   "source": [
    "kssr.info()"
   ]
  },
  {
   "cell_type": "code",
   "execution_count": 51,
   "metadata": {},
   "outputs": [
    {
     "data": {
      "text/plain": [
       "16"
      ]
     },
     "execution_count": 51,
     "metadata": {},
     "output_type": "execute_result"
    }
   ],
   "source": [
    "#TYPE,KEX,LEAF,INT,ROOT,RTT,RATE\n",
    "alg_combos_rate = ['SKSFN206-10', 'SKSFN36-10', 'SKSFN36-1000', 'SKSFN206-1000', 'KKKFR36-10', 'KKKFR206-10', 'KKKFR206-1000', 'KKKFR36-1000','KKKFN36-1000', 'KKKFN206-1000', 'KKKFN206-10', 'KKKFN36-10', 'SKSFR206-1000','SKSFR36-10','SKSFR206-10', 'SKSFR36-1000']\n",
    "alg_combos = ['SKSFN206', 'SKSFN36', 'SKSFN36', 'SKSFN206', 'KKKFR36', 'KKKFR206', 'KKKFR206', 'KKKFR36','KKKFN36', 'KKKFN206', 'KKKFN206', 'KKKFN36', 'SKSFR206','SKSFR36','SKSFR206', 'SKSFR36']\n",
    "kssr['Algorithm'] = alg_combos_rate\n",
    "len(alg_combos)"
   ]
  },
  {
   "cell_type": "code",
   "execution_count": 52,
   "metadata": {},
   "outputs": [
    {
     "data": {
      "image/png": "[encoded data removed]",
      "text/plain": [
       "<Figure size 432x288 with 1 Axes>"
      ]
     },
     "metadata": {
      "needs_background": "light"
     },
     "output_type": "display_data"
    }
   ],
   "source": [
    "axis = sns.barplot(x = 'type', y = 'client received server reply', data = kssr)"
   ]
  },
  {
   "cell_type": "code",
   "execution_count": 69,
   "metadata": {},
   "outputs": [],
   "source": [
    "lat36rate10 = kssr.loc[(kssr['rtt'] == 36.688) & (kssr['rate'] == '10mbit')]\n",
    "lat206rate10 = kssr.loc[(kssr['rtt'] == 206.821) & (kssr['rate'] == '10mbit')]\n",
    "lat36rate1000 = kssr.loc[(kssr['rtt'] == 36.688) & (kssr['rate'] == '1000mbit') ]\n",
    "lat206rate1000 = kssr.loc[(kssr['rtt'] == 206.821) & (kssr['rate'] == '1000mbit')]\n"
   ]
  },
  {
   "cell_type": "code",
   "execution_count": 67,
   "metadata": {},
   "outputs": [
    {
     "data": {
      "text/plain": [
       "[Text(0, 0, 'SKSFN36-10'),\n",
       " Text(0, 0, 'KKKFR36-10'),\n",
       " Text(0, 0, 'KKKFN36-10'),\n",
       " Text(0, 0, 'SKSFR36-10')]"
      ]
     },
     "execution_count": 67,
     "metadata": {},
     "output_type": "execute_result"
    },
    {
     "data": {
      "image/png": "[encoded data removed]",
      "text/plain": [
       "<Figure size 432x288 with 1 Axes>"
      ]
     },
     "metadata": {
      "needs_background": "light"
     },
     "output_type": "display_data"
    }
   ],
   "source": [
    "# Plot lat36rate10\n",
    "axis = sns.barplot(x = 'Algorithm', y = 'client received server reply', data = lat36rate10)\n",
    "axis.set(ylabel = 'Nanoseconds for client to receive server reply')\n",
    "axis.set_xticklabels(labels = lat36rate10['Algorithm'], rotation=45, ha='right')"
   ]
  },
  {
   "cell_type": "code",
   "execution_count": 70,
   "metadata": {},
   "outputs": [
    {
     "data": {
      "text/plain": [
       "[Text(0, 0, 'SKSFN206-10'),\n",
       " Text(0, 0, 'KKKFR206-10'),\n",
       " Text(0, 0, 'KKKFN206-10'),\n",
       " Text(0, 0, 'SKSFR206-10')]"
      ]
     },
     "execution_count": 70,
     "metadata": {},
     "output_type": "execute_result"
    },
    {
     "data": {
      "image/png": "[encoded data removed]",
      "text/plain": [
       "<Figure size 432x288 with 1 Axes>"
      ]
     },
     "metadata": {
      "needs_background": "light"
     },
     "output_type": "display_data"
    }
   ],
   "source": [
    "# Plot lat206rate10\n",
    "axis = sns.barplot(x = 'Algorithm', y = 'client received server reply', data = lat206rate10)\n",
    "axis.set(ylabel = 'Nanoseconds for client to receive server reply')\n",
    "axis.set_xticklabels(labels = lat206rate10['Algorithm'], rotation=45, ha='right')"
   ]
  },
  {
   "cell_type": "code",
   "execution_count": 71,
   "metadata": {},
   "outputs": [
    {
     "data": {
      "text/plain": [
       "[Text(0, 0, 'SKSFN206-1000'),\n",
       " Text(0, 0, 'KKKFR206-1000'),\n",
       " Text(0, 0, 'KKKFN206-1000'),\n",
       " Text(0, 0, 'SKSFR206-1000')]"
      ]
     },
     "execution_count": 71,
     "metadata": {},
     "output_type": "execute_result"
    },
    {
     "data": {
      "image/png": "[encoded data removed]",
      "text/plain": [
       "<Figure size 432x288 with 1 Axes>"
      ]
     },
     "metadata": {
      "needs_background": "light"
     },
     "output_type": "display_data"
    }
   ],
   "source": [
    "# Plot lat206rate1000\n",
    "axis = sns.barplot(x = 'Algorithm', y = 'client received server reply', data = lat206rate1000)\n",
    "axis.set(ylabel = 'Nanoseconds for client to receive server reply')\n",
    "axis.set_xticklabels(labels = lat206rate1000['Algorithm'], rotation=45, ha='right')"
   ]
  },
  {
   "cell_type": "code",
   "execution_count": 72,
   "metadata": {},
   "outputs": [
    {
     "data": {
      "text/plain": [
       "[Text(0, 0, 'SKSFN36-1000'),\n",
       " Text(0, 0, 'KKKFR36-1000'),\n",
       " Text(0, 0, 'KKKFN36-1000'),\n",
       " Text(0, 0, 'SKSFR36-1000')]"
      ]
     },
     "execution_count": 72,
     "metadata": {},
     "output_type": "execute_result"
    },
    {
     "data": {
      "image/png": "[encoded data removed]",
      "text/plain": [
       "<Figure size 432x288 with 1 Axes>"
      ]
     },
     "metadata": {
      "needs_background": "light"
     },
     "output_type": "display_data"
    }
   ],
   "source": [
    "# Plot lat36rate1000\n",
    "axis = sns.barplot(x = 'Algorithm', y = 'client received server reply', data = lat36rate1000)\n",
    "axis.set(ylabel = 'Nanoseconds for client to receive server reply')\n",
    "axis.set_xticklabels(labels = lat36rate1000['Algorithm'], rotation=45, ha='right')"
   ]
  },
  {
   "cell_type": "code",
   "execution_count": null,
   "metadata": {},
   "outputs": [],
   "source": []
  }
 ],
 "metadata": {
  "kernelspec": {
   "display_name": "Python 3",
   "language": "python",
   "name": "python3"
  },
  "language_info": {
   "codemirror_mode": {
    "name": "ipython",
    "version": 3
   },
   "file_extension": ".py",
   "mimetype": "text/x-python",
   "name": "python",
   "nbconvert_exporter": "python",
   "pygments_lexer": "ipython3",
   "version": "3.8.3"
  }
 },
 "nbformat": 4,
 "nbformat_minor": 5
}
