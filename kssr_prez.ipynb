{
 "cells": [
  {
   "cell_type": "code",
   "execution_count": 1,
   "metadata": {},
   "outputs": [],
   "source": [
    "import pandas as pd\n",
    "import numpy as np\n",
    "import matplotlib.pyplot as plt\n",
    "import seaborn as sns\n",
    "import re"
   ]
  },
  {
   "cell_type": "code",
   "execution_count": 2,
   "metadata": {},
   "outputs": [],
   "source": [
    "kssr = pd.read_csv('./kssr/avgs.csv')"
   ]
  },
  {
   "cell_type": "code",
   "execution_count": 14,
   "metadata": {},
   "outputs": [
    {
     "data": {
      "text/html": [
       "<div>\n",
       "<style scoped>\n",
       "    .dataframe tbody tr th:only-of-type {\n",
       "        vertical-align: middle;\n",
       "    }\n",
       "\n",
       "    .dataframe tbody tr th {\n",
       "        vertical-align: top;\n",
       "    }\n",
       "\n",
       "    .dataframe thead th {\n",
       "        text-align: right;\n",
       "    }\n",
       "</style>\n",
       "<table border=\"1\" class=\"dataframe\">\n",
       "  <thead>\n",
       "    <tr style=\"text-align: right;\">\n",
       "      <th></th>\n",
       "      <th>type</th>\n",
       "      <th>kex</th>\n",
       "      <th>leaf</th>\n",
       "      <th>int</th>\n",
       "      <th>root</th>\n",
       "      <th>cached_int</th>\n",
       "      <th>rtt</th>\n",
       "      <th>drop_rate</th>\n",
       "      <th>rate</th>\n",
       "      <th>measurements</th>\n",
       "      <th>...</th>\n",
       "      <th>server switched to ahs keys</th>\n",
       "      <th>server switched to ahs keys stdev</th>\n",
       "      <th>server emitted sf</th>\n",
       "      <th>server emitted sf stdev</th>\n",
       "      <th>server server encrypting traffic</th>\n",
       "      <th>server server encrypting traffic stdev</th>\n",
       "      <th>server server reading traffic</th>\n",
       "      <th>server server reading traffic stdev</th>\n",
       "      <th>server handshake completed</th>\n",
       "      <th>server handshake completed stdev</th>\n",
       "    </tr>\n",
       "  </thead>\n",
       "  <tbody>\n",
       "    <tr>\n",
       "      <th>0</th>\n",
       "      <td>sign</td>\n",
       "      <td>kyber512</td>\n",
       "      <td>SphincsSha256128fSimple</td>\n",
       "      <td>SphincsSha256128fSimple</td>\n",
       "      <td>NaN</td>\n",
       "      <td>True</td>\n",
       "      <td>40.384</td>\n",
       "      <td>0</td>\n",
       "      <td>10mbit</td>\n",
       "      <td>20000</td>\n",
       "      <td>...</td>\n",
       "      <td>NaN</td>\n",
       "      <td>NaN</td>\n",
       "      <td>24126.424388</td>\n",
       "      <td>9979.237597</td>\n",
       "      <td>150.266100</td>\n",
       "      <td>592.168672</td>\n",
       "      <td>NaN</td>\n",
       "      <td>NaN</td>\n",
       "      <td>415265.433697</td>\n",
       "      <td>116399.522088</td>\n",
       "    </tr>\n",
       "    <tr>\n",
       "      <th>1</th>\n",
       "      <td>sign</td>\n",
       "      <td>kyber512</td>\n",
       "      <td>SphincsSha256128fSimple</td>\n",
       "      <td>SphincsSha256128fSimple</td>\n",
       "      <td>NaN</td>\n",
       "      <td>True</td>\n",
       "      <td>215.666</td>\n",
       "      <td>0</td>\n",
       "      <td>10mbit</td>\n",
       "      <td>20000</td>\n",
       "      <td>...</td>\n",
       "      <td>NaN</td>\n",
       "      <td>NaN</td>\n",
       "      <td>17253.822242</td>\n",
       "      <td>3815.544035</td>\n",
       "      <td>118.330851</td>\n",
       "      <td>59.239969</td>\n",
       "      <td>NaN</td>\n",
       "      <td>NaN</td>\n",
       "      <td>541319.208831</td>\n",
       "      <td>54429.025563</td>\n",
       "    </tr>\n",
       "    <tr>\n",
       "      <th>2</th>\n",
       "      <td>sign</td>\n",
       "      <td>kyber512</td>\n",
       "      <td>SphincsSha256128fSimple</td>\n",
       "      <td>SphincsSha256128fSimple</td>\n",
       "      <td>NaN</td>\n",
       "      <td>True</td>\n",
       "      <td>215.666</td>\n",
       "      <td>0</td>\n",
       "      <td>1000mbit</td>\n",
       "      <td>20000</td>\n",
       "      <td>...</td>\n",
       "      <td>NaN</td>\n",
       "      <td>NaN</td>\n",
       "      <td>17869.076690</td>\n",
       "      <td>3792.292919</td>\n",
       "      <td>137.963139</td>\n",
       "      <td>326.909175</td>\n",
       "      <td>NaN</td>\n",
       "      <td>NaN</td>\n",
       "      <td>432566.482002</td>\n",
       "      <td>25366.407161</td>\n",
       "    </tr>\n",
       "    <tr>\n",
       "      <th>3</th>\n",
       "      <td>sign</td>\n",
       "      <td>kyber512</td>\n",
       "      <td>SphincsSha256128fSimple</td>\n",
       "      <td>SphincsSha256128fSimple</td>\n",
       "      <td>NaN</td>\n",
       "      <td>True</td>\n",
       "      <td>37.900</td>\n",
       "      <td>0</td>\n",
       "      <td>10mbit</td>\n",
       "      <td>20000</td>\n",
       "      <td>...</td>\n",
       "      <td>NaN</td>\n",
       "      <td>NaN</td>\n",
       "      <td>23282.647271</td>\n",
       "      <td>9472.649368</td>\n",
       "      <td>136.744887</td>\n",
       "      <td>465.401458</td>\n",
       "      <td>NaN</td>\n",
       "      <td>NaN</td>\n",
       "      <td>417970.255607</td>\n",
       "      <td>115834.805565</td>\n",
       "    </tr>\n",
       "    <tr>\n",
       "      <th>4</th>\n",
       "      <td>sign</td>\n",
       "      <td>kyber512</td>\n",
       "      <td>SphincsSha256128fSimple</td>\n",
       "      <td>SphincsSha256128fSimple</td>\n",
       "      <td>NaN</td>\n",
       "      <td>True</td>\n",
       "      <td>209.126</td>\n",
       "      <td>0</td>\n",
       "      <td>1000mbit</td>\n",
       "      <td>20000</td>\n",
       "      <td>...</td>\n",
       "      <td>NaN</td>\n",
       "      <td>NaN</td>\n",
       "      <td>18112.021230</td>\n",
       "      <td>4232.921625</td>\n",
       "      <td>145.606764</td>\n",
       "      <td>451.982790</td>\n",
       "      <td>NaN</td>\n",
       "      <td>NaN</td>\n",
       "      <td>433203.052139</td>\n",
       "      <td>25249.962507</td>\n",
       "    </tr>\n",
       "  </tbody>\n",
       "</table>\n",
       "<p>5 rows × 53 columns</p>\n",
       "</div>"
      ],
      "text/plain": [
       "   type       kex                     leaf                      int root  \\\n",
       "0  sign  kyber512  SphincsSha256128fSimple  SphincsSha256128fSimple  NaN   \n",
       "1  sign  kyber512  SphincsSha256128fSimple  SphincsSha256128fSimple  NaN   \n",
       "2  sign  kyber512  SphincsSha256128fSimple  SphincsSha256128fSimple  NaN   \n",
       "3  sign  kyber512  SphincsSha256128fSimple  SphincsSha256128fSimple  NaN   \n",
       "4  sign  kyber512  SphincsSha256128fSimple  SphincsSha256128fSimple  NaN   \n",
       "\n",
       "   cached_int      rtt  drop_rate      rate  measurements  ...  \\\n",
       "0        True   40.384          0    10mbit         20000  ...   \n",
       "1        True  215.666          0    10mbit         20000  ...   \n",
       "2        True  215.666          0  1000mbit         20000  ...   \n",
       "3        True   37.900          0    10mbit         20000  ...   \n",
       "4        True  209.126          0  1000mbit         20000  ...   \n",
       "\n",
       "  server switched to ahs keys  server switched to ahs keys stdev  \\\n",
       "0                         NaN                                NaN   \n",
       "1                         NaN                                NaN   \n",
       "2                         NaN                                NaN   \n",
       "3                         NaN                                NaN   \n",
       "4                         NaN                                NaN   \n",
       "\n",
       "   server emitted sf  server emitted sf stdev  \\\n",
       "0       24126.424388              9979.237597   \n",
       "1       17253.822242              3815.544035   \n",
       "2       17869.076690              3792.292919   \n",
       "3       23282.647271              9472.649368   \n",
       "4       18112.021230              4232.921625   \n",
       "\n",
       "   server server encrypting traffic  server server encrypting traffic stdev  \\\n",
       "0                        150.266100                              592.168672   \n",
       "1                        118.330851                               59.239969   \n",
       "2                        137.963139                              326.909175   \n",
       "3                        136.744887                              465.401458   \n",
       "4                        145.606764                              451.982790   \n",
       "\n",
       "   server server reading traffic  server server reading traffic stdev  \\\n",
       "0                            NaN                                  NaN   \n",
       "1                            NaN                                  NaN   \n",
       "2                            NaN                                  NaN   \n",
       "3                            NaN                                  NaN   \n",
       "4                            NaN                                  NaN   \n",
       "\n",
       "   server handshake completed  server handshake completed stdev  \n",
       "0               415265.433697                     116399.522088  \n",
       "1               541319.208831                      54429.025563  \n",
       "2               432566.482002                      25366.407161  \n",
       "3               417970.255607                     115834.805565  \n",
       "4               433203.052139                      25249.962507  \n",
       "\n",
       "[5 rows x 53 columns]"
      ]
     },
     "execution_count": 14,
     "metadata": {},
     "output_type": "execute_result"
    }
   ],
   "source": [
    "kssr.head()"
   ]
  },
  {
   "cell_type": "code",
   "execution_count": 31,
   "metadata": {},
   "outputs": [
    {
     "data": {
      "text/plain": [
       "16"
      ]
     },
     "execution_count": 31,
     "metadata": {},
     "output_type": "execute_result"
    }
   ],
   "source": [
    "#TYPE,KEX,LEAF,INT,ROOT,RTT,RATE\n",
    "alg_combos_rate = ['SKSSN37-10', 'SKSSN209-1000', 'SKSSN37-1000', 'SKSSN209-10', 'KKKSR209-10', 'KKKSR37-10', 'KKKSR209-1000', 'KKKSR37-1000','KKKSN209-10', 'KKKSN37-10', 'KKKSN209-1000', 'KKKSN37-1000', 'SKSSR209-1000','SKSSR37-1000','SKSSR37-10', 'SKSSR209-10']\n",
    "# alg_combos = ['SKSFN206', 'SKSFN36', 'SKSFN36', 'SKSFN206', 'KKKFR36', 'KKKFR206', 'KKKFR206', 'KKKFR36','KKKFN36', 'KKKFN206', 'KKKFN206', 'KKKFN36', 'SKSFR206','SKSFR36','SKSFR206', 'SKSFR36']\n",
    "kssr_filter['Algorithm'] = alg_combos_rate\n",
    "len(alg_combos_rate)"
   ]
  },
  {
   "cell_type": "code",
   "execution_count": 41,
   "metadata": {},
   "outputs": [
    {
     "data": {
      "text/html": [
       "<div>\n",
       "<style scoped>\n",
       "    .dataframe tbody tr th:only-of-type {\n",
       "        vertical-align: middle;\n",
       "    }\n",
       "\n",
       "    .dataframe tbody tr th {\n",
       "        vertical-align: top;\n",
       "    }\n",
       "\n",
       "    .dataframe thead th {\n",
       "        text-align: right;\n",
       "    }\n",
       "</style>\n",
       "<table border=\"1\" class=\"dataframe\">\n",
       "  <thead>\n",
       "    <tr style=\"text-align: right;\">\n",
       "      <th></th>\n",
       "      <th>type</th>\n",
       "      <th>kex</th>\n",
       "      <th>leaf</th>\n",
       "      <th>int</th>\n",
       "      <th>root</th>\n",
       "      <th>cached_int</th>\n",
       "      <th>rtt</th>\n",
       "      <th>drop_rate</th>\n",
       "      <th>rate</th>\n",
       "      <th>measurements</th>\n",
       "      <th>...</th>\n",
       "      <th>server switched to ahs keys stdev</th>\n",
       "      <th>server emitted sf</th>\n",
       "      <th>server emitted sf stdev</th>\n",
       "      <th>server server encrypting traffic</th>\n",
       "      <th>server server encrypting traffic stdev</th>\n",
       "      <th>server server reading traffic</th>\n",
       "      <th>server server reading traffic stdev</th>\n",
       "      <th>server handshake completed</th>\n",
       "      <th>server handshake completed stdev</th>\n",
       "      <th>Algorithm</th>\n",
       "    </tr>\n",
       "  </thead>\n",
       "  <tbody>\n",
       "    <tr>\n",
       "      <th>5</th>\n",
       "      <td>sign</td>\n",
       "      <td>kyber512</td>\n",
       "      <td>SphincsSha256128fSimple</td>\n",
       "      <td>SphincsSha256128fSimple</td>\n",
       "      <td>NaN</td>\n",
       "      <td>True</td>\n",
       "      <td>37.9</td>\n",
       "      <td>0</td>\n",
       "      <td>1000mbit</td>\n",
       "      <td>20000</td>\n",
       "      <td>...</td>\n",
       "      <td>NaN</td>\n",
       "      <td>17106.833027</td>\n",
       "      <td>3360.643933</td>\n",
       "      <td>98.772925</td>\n",
       "      <td>43.924240</td>\n",
       "      <td>NaN</td>\n",
       "      <td>NaN</td>\n",
       "      <td>87024.842873</td>\n",
       "      <td>4928.065094</td>\n",
       "      <td>SKSSN37-1000</td>\n",
       "    </tr>\n",
       "    <tr>\n",
       "      <th>14</th>\n",
       "      <td>kem</td>\n",
       "      <td>kyber512</td>\n",
       "      <td>kyber512</td>\n",
       "      <td>SphincsSha256128fSimple</td>\n",
       "      <td>RainbowIaCyclic</td>\n",
       "      <td>False</td>\n",
       "      <td>37.9</td>\n",
       "      <td>0</td>\n",
       "      <td>1000mbit</td>\n",
       "      <td>20000</td>\n",
       "      <td>...</td>\n",
       "      <td>12265.883617</td>\n",
       "      <td>NaN</td>\n",
       "      <td>NaN</td>\n",
       "      <td>NaN</td>\n",
       "      <td>NaN</td>\n",
       "      <td>70179.781636</td>\n",
       "      <td>12265.972909</td>\n",
       "      <td>70193.482574</td>\n",
       "      <td>12266.236926</td>\n",
       "      <td>KKKSR37-1000</td>\n",
       "    </tr>\n",
       "    <tr>\n",
       "      <th>22</th>\n",
       "      <td>kem</td>\n",
       "      <td>kyber512</td>\n",
       "      <td>kyber512</td>\n",
       "      <td>SphincsSha256128fSimple</td>\n",
       "      <td>NaN</td>\n",
       "      <td>True</td>\n",
       "      <td>37.9</td>\n",
       "      <td>0</td>\n",
       "      <td>1000mbit</td>\n",
       "      <td>20000</td>\n",
       "      <td>...</td>\n",
       "      <td>14583.057406</td>\n",
       "      <td>NaN</td>\n",
       "      <td>NaN</td>\n",
       "      <td>NaN</td>\n",
       "      <td>NaN</td>\n",
       "      <td>70003.955495</td>\n",
       "      <td>14583.261298</td>\n",
       "      <td>70017.673584</td>\n",
       "      <td>14583.498402</td>\n",
       "      <td>KKKSN37-1000</td>\n",
       "    </tr>\n",
       "    <tr>\n",
       "      <th>28</th>\n",
       "      <td>sign</td>\n",
       "      <td>kyber512</td>\n",
       "      <td>SphincsSha256128fSimple</td>\n",
       "      <td>SphincsSha256128fSimple</td>\n",
       "      <td>RainbowIaCyclic</td>\n",
       "      <td>False</td>\n",
       "      <td>37.9</td>\n",
       "      <td>0</td>\n",
       "      <td>1000mbit</td>\n",
       "      <td>20000</td>\n",
       "      <td>...</td>\n",
       "      <td>NaN</td>\n",
       "      <td>16806.688999</td>\n",
       "      <td>3261.417828</td>\n",
       "      <td>98.685460</td>\n",
       "      <td>80.607446</td>\n",
       "      <td>NaN</td>\n",
       "      <td>NaN</td>\n",
       "      <td>86836.875957</td>\n",
       "      <td>4993.077938</td>\n",
       "      <td>SKSSR37-1000</td>\n",
       "    </tr>\n",
       "  </tbody>\n",
       "</table>\n",
       "<p>4 rows × 54 columns</p>\n",
       "</div>"
      ],
      "text/plain": [
       "    type       kex                     leaf                      int  \\\n",
       "5   sign  kyber512  SphincsSha256128fSimple  SphincsSha256128fSimple   \n",
       "14   kem  kyber512                 kyber512  SphincsSha256128fSimple   \n",
       "22   kem  kyber512                 kyber512  SphincsSha256128fSimple   \n",
       "28  sign  kyber512  SphincsSha256128fSimple  SphincsSha256128fSimple   \n",
       "\n",
       "               root  cached_int   rtt  drop_rate      rate  measurements  ...  \\\n",
       "5               NaN        True  37.9          0  1000mbit         20000  ...   \n",
       "14  RainbowIaCyclic       False  37.9          0  1000mbit         20000  ...   \n",
       "22              NaN        True  37.9          0  1000mbit         20000  ...   \n",
       "28  RainbowIaCyclic       False  37.9          0  1000mbit         20000  ...   \n",
       "\n",
       "   server switched to ahs keys stdev  server emitted sf  \\\n",
       "5                                NaN       17106.833027   \n",
       "14                      12265.883617                NaN   \n",
       "22                      14583.057406                NaN   \n",
       "28                               NaN       16806.688999   \n",
       "\n",
       "    server emitted sf stdev  server server encrypting traffic  \\\n",
       "5               3360.643933                         98.772925   \n",
       "14                      NaN                               NaN   \n",
       "22                      NaN                               NaN   \n",
       "28              3261.417828                         98.685460   \n",
       "\n",
       "    server server encrypting traffic stdev  server server reading traffic  \\\n",
       "5                                43.924240                            NaN   \n",
       "14                                     NaN                   70179.781636   \n",
       "22                                     NaN                   70003.955495   \n",
       "28                               80.607446                            NaN   \n",
       "\n",
       "    server server reading traffic stdev  server handshake completed  \\\n",
       "5                                   NaN                87024.842873   \n",
       "14                         12265.972909                70193.482574   \n",
       "22                         14583.261298                70017.673584   \n",
       "28                                  NaN                86836.875957   \n",
       "\n",
       "    server handshake completed stdev     Algorithm  \n",
       "5                        4928.065094  SKSSN37-1000  \n",
       "14                      12266.236926  KKKSR37-1000  \n",
       "22                      14583.498402  KKKSN37-1000  \n",
       "28                       4993.077938  SKSSR37-1000  \n",
       "\n",
       "[4 rows x 54 columns]"
      ]
     },
     "execution_count": 41,
     "metadata": {},
     "output_type": "execute_result"
    }
   ],
   "source": [
    "kssr_filter = kssr.loc[(kssr['rtt'] == 37.900) | (kssr['rtt'] == kssr['rtt'][31])]\n",
    "lat37rate10 = kssr.loc[(kssr_filter['rtt'] == 37.900) & (kssr_filter['rate'] == '10mbit')]\n",
    "lat209rate10 = kssr.loc[(kssr_filter['rtt'] == kssr_filter['rtt'][4]) & (kssr_filter['rate'] == '10mbit')]\n",
    "lat37rate1000 = kssr.loc[(kssr_filter['rtt'] == 37.900) & (kssr_filter['rate'] == '1000mbit')]\n",
    "lat209rate1000 = kssr.loc[(kssr_filter['rtt'] == kssr_filter['rtt'][4]) & (kssr_filter['rate'] == '1000mbit')]\n",
    "lat37rate1000"
   ]
  },
  {
   "cell_type": "code",
   "execution_count": 30,
   "metadata": {},
   "outputs": [
    {
     "data": {
      "text/plain": [
       "16"
      ]
     },
     "execution_count": 30,
     "metadata": {},
     "output_type": "execute_result"
    }
   ],
   "source": []
  },
  {
   "cell_type": "code",
   "execution_count": 34,
   "metadata": {},
   "outputs": [
    {
     "data": {
      "text/plain": [
       "[Text(0, 0, 'SKSSN37-10'),\n",
       " Text(0, 0, 'KKKSR37-10'),\n",
       " Text(0, 0, 'KKKSN37-10'),\n",
       " Text(0, 0, 'SKSSR37-10')]"
      ]
     },
     "execution_count": 34,
     "metadata": {},
     "output_type": "execute_result"
    },
    {
     "data": {
      "image/png": "[encoded data removed]",
      "text/plain": [
       "<Figure size 432x288 with 1 Axes>"
      ]
     },
     "metadata": {
      "needs_background": "light"
     },
     "output_type": "display_data"
    }
   ],
   "source": [
    "# Plot lat36rate10\n",
    "axis = sns.barplot(x = 'Algorithm', y = 'client received server reply', data = lat37rate10)\n",
    "axis.set(ylabel = 'Nanoseconds for client to receive server reply')\n",
    "axis.set_xticklabels(labels = lat37rate10['Algorithm'], rotation=45, ha='right')"
   ]
  },
  {
   "cell_type": "code",
   "execution_count": 35,
   "metadata": {},
   "outputs": [
    {
     "data": {
      "text/plain": [
       "[Text(0, 0, 'SKSSN209-10'),\n",
       " Text(0, 0, 'KKKSR209-10'),\n",
       " Text(0, 0, 'KKKSN209-10'),\n",
       " Text(0, 0, 'SKSSR209-10')]"
      ]
     },
     "execution_count": 35,
     "metadata": {},
     "output_type": "execute_result"
    },
    {
     "data": {
      "image/png": "[encoded data removed]",
      "text/plain": [
       "<Figure size 432x288 with 1 Axes>"
      ]
     },
     "metadata": {
      "needs_background": "light"
     },
     "output_type": "display_data"
    }
   ],
   "source": [
    "# Plot lat206rate10\n",
    "axis = sns.barplot(x = 'Algorithm', y = 'client received server reply', data = lat209rate10)\n",
    "axis.set(ylabel = 'Nanoseconds for client to receive server reply')\n",
    "axis.set_xticklabels(labels = lat209rate10['Algorithm'], rotation=45, ha='right')"
   ]
  },
  {
   "cell_type": "code",
   "execution_count": 42,
   "metadata": {},
   "outputs": [
    {
     "data": {
      "text/plain": [
       "[Text(0, 0, 'SKSSN37-1000'),\n",
       " Text(0, 0, 'KKKSR37-1000'),\n",
       " Text(0, 0, 'KKKSN37-1000'),\n",
       " Text(0, 0, 'SKSSR37-1000')]"
      ]
     },
     "execution_count": 42,
     "metadata": {},
     "output_type": "execute_result"
    },
    {
     "data": {
      "image/png": "[encoded data removed]",
      "text/plain": [
       "<Figure size 432x288 with 1 Axes>"
      ]
     },
     "metadata": {
      "needs_background": "light"
     },
     "output_type": "display_data"
    }
   ],
   "source": [
    "# Plot lat36rate1000\n",
    "axis = sns.barplot(x = 'Algorithm', y = 'client received server reply', data = lat37rate1000)\n",
    "axis.set(ylabel = 'Nanoseconds for client to receive server reply')\n",
    "axis.set_xticklabels(labels = lat37rate1000['Algorithm'], rotation=45, ha='right')"
   ]
  },
  {
   "cell_type": "code",
   "execution_count": 44,
   "metadata": {},
   "outputs": [
    {
     "data": {
      "text/plain": [
       "[Text(0, 0, 'SKSSN209-1000'),\n",
       " Text(0, 0, 'KKKSR209-1000'),\n",
       " Text(0, 0, 'KKKSN209-1000'),\n",
       " Text(0, 0, 'SKSSR209-1000')]"
      ]
     },
     "execution_count": 44,
     "metadata": {},
     "output_type": "execute_result"
    },
    {
     "data": {
      "image/png": "[encoded data removed]",
      "text/plain": [
       "<Figure size 432x288 with 1 Axes>"
      ]
     },
     "metadata": {
      "needs_background": "light"
     },
     "output_type": "display_data"
    }
   ],
   "source": [
    "# Plot lat206rate1000\n",
    "axis = sns.barplot(x = 'Algorithm', y = 'client received server reply', data = lat209rate1000)\n",
    "axis.set(ylabel = 'Nanoseconds for client to receive server reply')\n",
    "axis.set_xticklabels(labels = lat209rate1000['Algorithm'], rotation=45, ha='right')"
   ]
  },
  {
   "cell_type": "code",
   "execution_count": null,
   "metadata": {},
   "outputs": [],
   "source": []
  }
 ],
 "metadata": {
  "kernelspec": {
   "display_name": "Python 3",
   "language": "python",
   "name": "python3"
  },
  "language_info": {
   "codemirror_mode": {
    "name": "ipython",
    "version": 3
   },
   "file_extension": ".py",
   "mimetype": "text/x-python",
   "name": "python",
   "nbconvert_exporter": "python",
   "pygments_lexer": "ipython3",
   "version": "3.8.3"
  }
 },
 "nbformat": 4,
 "nbformat_minor": 4
}
